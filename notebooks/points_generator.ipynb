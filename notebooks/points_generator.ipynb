{
 "cells": [
  {
   "cell_type": "code",
   "execution_count": 1,
   "metadata": {},
   "outputs": [],
   "source": [
    "from random import randint\n",
    "\n",
    "set3d = [ ((randint(0,100), randint(0,100), randint(0,100)), randint(0,1)) for _ in range(16)]"
   ]
  },
  {
   "cell_type": "code",
   "execution_count": 2,
   "metadata": {},
   "outputs": [],
   "source": [
    "selected_set = [((94, 6, 1), 1),\n",
    " ((43, 14, 97), 1),\n",
    " ((17, 51, 69), 0),\n",
    " ((36, 3, 79), 0),\n",
    " ((53, 51, 95), 0),\n",
    " ((63, 95, 48), 1),\n",
    " ((39, 55, 61), 1),\n",
    " ((9, 22, 6), 1),\n",
    " ((7, 72, 30), 1),\n",
    " ((13, 47, 34), 0),\n",
    " ((5, 7, 60), 1),\n",
    " ((69, 37, 85), 0),\n",
    " ((64, 15, 93), 1),\n",
    " ((100, 58, 10), 0),\n",
    " ((52, 87, 47), 0),\n",
    " ((70, 19, 31), 1)]\n"
   ]
  },
  {
   "cell_type": "code",
   "execution_count": 3,
   "metadata": {},
   "outputs": [
    {
     "name": "stdout",
     "output_type": "stream",
     "text": [
      "(94, 6, 1) 0\n",
      "(43, 14, 97) 1\n",
      "(63, 95, 48) 2\n",
      "(39, 55, 61) 1\n",
      "(9, 22, 6) 0\n",
      "(7, 72, 30) 0\n",
      "(5, 7, 60) 0\n",
      "(64, 15, 93) 1\n",
      "(70, 19, 31) 0\n"
     ]
    }
   ],
   "source": [
    "for k in selected_set:\n",
    "  count_for_k = 0\n",
    "  if k[1] == 1:\n",
    "      for v in selected_set:\n",
    "        if (v[1] == 0 and v[0][0] < k[0][0] and\n",
    "            v[0][1] < k[0][1] and v[0][2] < k[0][2]):\n",
    "          count_for_k += 1\n",
    "\n",
    "      print(k[0], count_for_k)"
   ]
  },
  {
   "cell_type": "code",
   "execution_count": 14,
   "metadata": {},
   "outputs": [],
   "source": [
    "import csv\n",
    "with open('test3d.csv', 'w') as csvfile:\n",
    "    writer = csv.writer(csvfile, delimiter=',', lineterminator='\\n')\n",
    "    for v in selected_set:\n",
    "        writer.writerow([v[0][0], v[0][1], v[0][2], v[1]])\n",
    "#     writer.writerow(['Spam'] * 5 + ['Baked Beans'])\n",
    "#     writer.writerow(['Spam', 'Lovely Spam', 'Wonderful Spam'])"
   ]
  },
  {
   "cell_type": "code",
   "execution_count": null,
   "metadata": {},
   "outputs": [],
   "source": []
  }
 ],
 "metadata": {
  "kernelspec": {
   "display_name": "Python 3",
   "language": "python",
   "name": "python3"
  },
  "language_info": {
   "codemirror_mode": {
    "name": "ipython",
    "version": 3
   },
   "file_extension": ".py",
   "mimetype": "text/x-python",
   "name": "python",
   "nbconvert_exporter": "python",
   "pygments_lexer": "ipython3",
   "version": "3.7.7"
  }
 },
 "nbformat": 4,
 "nbformat_minor": 4
}
